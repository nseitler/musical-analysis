{
 "cells": [
  {
   "cell_type": "code",
   "execution_count": 2,
   "id": "d08daedb-a793-4cf0-bc33-4fdaa7031ca1",
   "metadata": {},
   "outputs": [],
   "source": [
    "import seaborn as sns\n",
    "import matplotlib.pyplot as plt\n",
    "import pandas as pd"
   ]
  },
  {
   "cell_type": "code",
   "execution_count": 6,
   "id": "eef9f3aa-5dea-4a80-9f37-2d3b0bce84f9",
   "metadata": {
    "tags": []
   },
   "outputs": [
    {
     "name": "stdout",
     "output_type": "stream",
     "text": [
      "   Unnamed: 0                 title      artist        top genre  year  bpm  \\\n",
      "0           1      Hey, Soul Sister       Train       neo mellow  2010   97   \n",
      "1           2  Love The Way You Lie      Eminem  detroit hip hop  2010   87   \n",
      "2           3               TiK ToK       Kesha        dance pop  2010  120   \n",
      "3           4           Bad Romance   Lady Gaga        dance pop  2010  119   \n",
      "4           5  Just the Way You Are  Bruno Mars              pop  2010  109   \n",
      "\n",
      "   nrgy  dnce  dB  live  val  dur  acous  spch  pop  \n",
      "0    89    67  -4     8   80  217     19     4   83  \n",
      "1    93    75  -5    52   64  263     24    23   82  \n",
      "2    84    76  -3    29   71  200     10    14   80  \n",
      "3    92    70  -4     8   71  295      0     4   79  \n",
      "4    84    64  -5     9   43  221      2     4   78  \n"
     ]
    }
   ],
   "source": [
    "spotify2010 = pd.read_csv(\"2010.csv\")\n",
    "spotify2011 = pd.read_csv(\"2011.csv\")\n",
    "spotify2012 = pd.read_csv(\"2012.csv\")\n",
    "spotify2013 = pd.read_csv(\"2013.csv\")\n",
    "spotify2014 = pd.read_csv(\"2014.csv\")\n",
    "spotify2015 = pd.read_csv(\"2015.csv\")\n",
    "spotify2016 = pd.read_csv(\"2016.csv\")\n",
    "spotify2017 = pd.read_csv(\"2017.csv\")\n",
    "spotify2018 = pd.read_csv(\"2018.csv\")\n",
    "spotify2019 = pd.read_csv(\"2019.csv\")\n",
    "\n",
    "spotify_combined = pd.concat([spotify2010, spotify2011, spotify2012, spotify2013, spotify2014, spotify2015, spotify2016, spotify2017, spotify2018, spotify2019], ignore_index=True)\n",
    "\n",
    "print(spotify_combined.head())"
   ]
  },
  {
   "cell_type": "code",
   "execution_count": 5,
   "id": "84535a95-a491-403e-b75b-ba18b70f8acd",
   "metadata": {
    "tags": []
   },
   "outputs": [
    {
     "data": {
      "text/plain": [
       "(603, 15)"
      ]
     },
     "execution_count": 5,
     "metadata": {},
     "output_type": "execute_result"
    }
   ],
   "source": [
    "spotify_combined.shape"
   ]
  },
  {
   "cell_type": "code",
   "execution_count": null,
   "id": "545de1d3-b91a-4a07-a8f2-47a32110783d",
   "metadata": {},
   "outputs": [],
   "source": []
  },
  {
   "cell_type": "code",
   "execution_count": null,
   "id": "e63e448f-b126-49e7-ba2c-700615693b00",
   "metadata": {},
   "outputs": [],
   "source": []
  }
 ],
 "metadata": {
  "kernelspec": {
   "display_name": "Python 3 (ipykernel)",
   "language": "python",
   "name": "python3"
  },
  "language_info": {
   "codemirror_mode": {
    "name": "ipython",
    "version": 3
   },
   "file_extension": ".py",
   "mimetype": "text/x-python",
   "name": "python",
   "nbconvert_exporter": "python",
   "pygments_lexer": "ipython3",
   "version": "3.11.5"
  }
 },
 "nbformat": 4,
 "nbformat_minor": 5
}
