{
 "cells": [
  {
   "cell_type": "code",
   "execution_count": 2,
   "id": "d08daedb-a793-4cf0-bc33-4fdaa7031ca1",
   "metadata": {},
   "outputs": [],
   "source": [
    "import seaborn as sns\n",
    "import matplotlib.pyplot as plt\n",
    "import pandas as pd"
   ]
  },
  {
   "cell_type": "code",
   "execution_count": 23,
   "id": "eef9f3aa-5dea-4a80-9f37-2d3b0bce84f9",
   "metadata": {
    "tags": []
   },
   "outputs": [],
   "source": [
    "column_names = ['id', 'title', 'artist', 'top genre', 'year', 'bpm', 'nrgy', 'dnce', 'db', 'live', 'val', 'dur', 'acous', 'spch', 'pop']\n",
    "\n",
    "spotify_data = {}\n",
    "\n",
    "for year in range(2010, 2020):\n",
    "    file_name = f\"{year}.csv\"\n",
    "    spotify_data[year] = pd.read_csv(file_name, header=None, names=column_names)\n",
    "    \n",
    "all_top_songs = pd.concat(spotify_data.values(), ignore_index=True)"
   ]
  },
  {
   "cell_type": "code",
   "execution_count": 20,
   "id": "84535a95-a491-403e-b75b-ba18b70f8acd",
   "metadata": {
    "tags": []
   },
   "outputs": [
    {
     "data": {
      "text/plain": [
       "(613, 12)"
      ]
     },
     "execution_count": 20,
     "metadata": {},
     "output_type": "execute_result"
    }
   ],
   "source": [
    "all_top_songs.shape"
   ]
  },
  {
   "cell_type": "markdown",
   "id": "fd139e4f-e3d6-4b21-ac32-bf8530cdfd57",
   "metadata": {},
   "source": [
    "# Clean the data"
   ]
  },
  {
   "cell_type": "code",
   "execution_count": 24,
   "id": "e63e448f-b126-49e7-ba2c-700615693b00",
   "metadata": {
    "tags": []
   },
   "outputs": [
    {
     "name": "stdout",
     "output_type": "stream",
     "text": [
      "\n",
      "Data Types After Conversion:\n",
      " id            int32\n",
      "title        object\n",
      "artist       object\n",
      "top genre    object\n",
      "year          int32\n",
      "bpm           int32\n",
      "nrgy          int32\n",
      "dnce          int32\n",
      "db            int32\n",
      "live          int32\n",
      "val           int32\n",
      "dur           int32\n",
      "acous         int32\n",
      "spch          int32\n",
      "pop           int32\n",
      "dtype: object\n"
     ]
    }
   ],
   "source": [
    "for col in columns_to_convert:\n",
    "    all_top_songs[col] = pd.to_numeric(all_top_songs[col], errors='coerce')\n",
    "\n",
    "    all_top_songs[col] = all_top_songs[col].fillna(0).astype(int)\n",
    "\n",
    "print(\"\\nData Types After Conversion:\\n\", all_top_songs.dtypes)"
   ]
  },
  {
   "cell_type": "markdown",
   "id": "711639ba-7c09-4966-b463-1ad55a96f234",
   "metadata": {},
   "source": [
    "# Most popular song\n",
    "#### The most popular song is Memories by Maroon 5"
   ]
  },
  {
   "cell_type": "code",
   "execution_count": 28,
   "id": "71a5e63e-48ee-4027-971c-351a65e34734",
   "metadata": {
    "tags": []
   },
   "outputs": [
    {
     "name": "stdout",
     "output_type": "stream",
     "text": [
      "The most popular song is 'Memories' by Maroon 5\n"
     ]
    }
   ],
   "source": [
    "max_pop_index = all_top_songs['pop'].idxmax()\n",
    "\n",
    "most_popular_song = all_top_songs.loc[max_pop_index]\n",
    "\n",
    "print(f\"The most popular song is '{most_popular_song['title']}' by {most_popular_song['artist']}\")"
   ]
  },
  {
   "cell_type": "markdown",
   "id": "280193e1-0475-42ff-9f2b-49655fe7ebc9",
   "metadata": {},
   "source": [
    "# Most songs in data set"
   ]
  },
  {
   "cell_type": "code",
   "execution_count": 26,
   "id": "d183b086-670b-44c4-a154-68d9fa7d01d7",
   "metadata": {
    "tags": []
   },
   "outputs": [
    {
     "name": "stdout",
     "output_type": "stream",
     "text": [
      "Artist with the most songs: Katy Perry\n",
      "Number of songs: 17\n"
     ]
    }
   ],
   "source": [
    "artist_song_count = all_top_songs['artist'].value_counts()\n",
    "\n",
    "most_songs_artist = artist_song_count.idxmax()\n",
    "\n",
    "print(f\"Artist with the most songs: {most_songs_artist}\")\n",
    "print(f\"Number of songs: {artist_song_count[most_songs_artist]}\")"
   ]
  },
  {
   "cell_type": "code",
   "execution_count": null,
   "id": "341f7f7a-3e22-456c-8f39-e437e5ea20c7",
   "metadata": {},
   "outputs": [],
   "source": []
  }
 ],
 "metadata": {
  "kernelspec": {
   "display_name": "Python 3 (ipykernel)",
   "language": "python",
   "name": "python3"
  },
  "language_info": {
   "codemirror_mode": {
    "name": "ipython",
    "version": 3
   },
   "file_extension": ".py",
   "mimetype": "text/x-python",
   "name": "python",
   "nbconvert_exporter": "python",
   "pygments_lexer": "ipython3",
   "version": "3.11.5"
  }
 },
 "nbformat": 4,
 "nbformat_minor": 5
}
